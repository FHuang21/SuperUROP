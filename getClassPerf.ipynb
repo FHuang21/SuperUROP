{
 "cells": [
  {
   "cell_type": "code",
   "execution_count": 3,
   "metadata": {},
   "outputs": [
    {
     "ename": "ModuleNotFoundError",
     "evalue": "No module named 'ipdb'",
     "output_type": "error",
     "traceback": [
      "\u001b[0;31m---------------------------------------------------------------------------\u001b[0m",
      "\u001b[0;31mModuleNotFoundError\u001b[0m                       Traceback (most recent call last)",
      "Cell \u001b[0;32mIn[3], line 6\u001b[0m\n\u001b[1;32m      4\u001b[0m \u001b[39mimport\u001b[39;00m \u001b[39mmatplotlib\u001b[39;00m\u001b[39m.\u001b[39;00m\u001b[39mpyplot\u001b[39;00m \u001b[39mas\u001b[39;00m \u001b[39mplt\u001b[39;00m\n\u001b[1;32m      5\u001b[0m \u001b[39mimport\u001b[39;00m \u001b[39margparse\u001b[39;00m\n\u001b[0;32m----> 6\u001b[0m \u001b[39mfrom\u001b[39;00m \u001b[39mmodel\u001b[39;00m \u001b[39mimport\u001b[39;00m SimonModel\n\u001b[1;32m      7\u001b[0m \u001b[39mfrom\u001b[39;00m \u001b[39mdataset\u001b[39;00m \u001b[39mimport\u001b[39;00m EEG_Encoding_SHHS2_Dataset, EEG_Encoding_WSC_Dataset\n\u001b[1;32m      8\u001b[0m \u001b[39mfrom\u001b[39;00m \u001b[39mtorch\u001b[39;00m\u001b[39m.\u001b[39;00m\u001b[39mutils\u001b[39;00m\u001b[39m.\u001b[39;00m\u001b[39mdata\u001b[39;00m \u001b[39mimport\u001b[39;00m DataLoader, Subset\n",
      "File \u001b[0;32m~/mnt/projects/code/model.py:4\u001b[0m\n\u001b[1;32m      2\u001b[0m \u001b[39mimport\u001b[39;00m \u001b[39mtorch\u001b[39;00m\u001b[39m.\u001b[39;00m\u001b[39mnn\u001b[39;00m \u001b[39mas\u001b[39;00m \u001b[39mnn\u001b[39;00m\n\u001b[1;32m      3\u001b[0m \u001b[39mfrom\u001b[39;00m \u001b[39mtorch\u001b[39;00m\u001b[39m.\u001b[39;00m\u001b[39mnn\u001b[39;00m \u001b[39mimport\u001b[39;00m functional \u001b[39mas\u001b[39;00m F\n\u001b[0;32m----> 4\u001b[0m \u001b[39mfrom\u001b[39;00m \u001b[39mipdb\u001b[39;00m \u001b[39mimport\u001b[39;00m set_trace \u001b[39mas\u001b[39;00m bp\n\u001b[1;32m      5\u001b[0m \u001b[39mfrom\u001b[39;00m \u001b[39mdataset\u001b[39;00m \u001b[39mimport\u001b[39;00m EEG_SHHS_Dataset\n\u001b[1;32m      6\u001b[0m \u001b[39mfrom\u001b[39;00m \u001b[39mtorch\u001b[39;00m\u001b[39m.\u001b[39;00m\u001b[39mutils\u001b[39;00m\u001b[39m.\u001b[39;00m\u001b[39mdata\u001b[39;00m \u001b[39mimport\u001b[39;00m  DataLoader\n",
      "\u001b[0;31mModuleNotFoundError\u001b[0m: No module named 'ipdb'"
     ]
    }
   ],
   "source": [
    "import torch\n",
    "import numpy as np\n",
    "import pandas as pd\n",
    "import matplotlib.pyplot as plt\n",
    "import argparse\n",
    "from model import SimonModel\n",
    "from dataset import EEG_Encoding_SHHS2_Dataset, EEG_Encoding_WSC_Dataset\n",
    "from torch.utils.data import DataLoader, Subset\n",
    "import torch.nn as nn\n",
    "from sklearn.model_selection import KFold\n",
    "from sklearn.metrics import precision_score, recall_score, confusion_matrix, classification_report, f1_score\n",
    "\n",
    "#import os\n",
    "#from ipdb import set_trace as bp"
   ]
  },
  {
   "cell_type": "code",
   "execution_count": null,
   "metadata": {},
   "outputs": [],
   "source": [
    "# initialize args and model\n",
    "class Object(object):\n",
    "    pass\n",
    "\n",
    "args = Object()\n",
    "args.num_heads = 4; args.hidden_size = 8; args.fc2_size = 32; args.num_classes = 2; args.dropout = 0.5; args.no_attention = False\n",
    "args.label = \"nsrrid\"; args.tca = False; args.ntca = False; args.ssri = False; args.other = False; args.control = False\n",
    "\n",
    "dataset = EEG_Encoding_WSC_Dataset(args)\n",
    "data_dict = dataset.data_dict()\n",
    "# args.tca = True\n",
    "# tca_dataset = EEG_Encoding_WSC_Dataset(args)\n",
    "# args.tca = False\n",
    "# args.ssri = True\n",
    "# ssri_dataset = EEG_Encoding_WSC_Dataset(args)\n",
    "# args.ssri = False\n",
    "# args.other = True\n",
    "# other_dataset = EEG_Encoding_WSC_Dataset(args)\n",
    "# args.other = False\n",
    "\n",
    "# using best antidep model (tuned relu BCE)\n",
    "model_path =  \"/data/scratch/alimirz/2023/SIMON/TENSORBOARD/exp_lr_0.002_w_1.0,2.5_ds_eeg_bs_16_epochs_2_dpt_0.0_fold0_256,64,16_heads4bce_tuned_relu_081123_final/lr_0.002_w_1.0,2.5_bs_16_heads4_0.0_attbce_tuned_relu_081123_final_epochs2_fold0.pt\"\n",
    "model = SimonModel(args)\n",
    "fc_end = nn.Linear(2, 1)\n",
    "model = nn.Sequential(model, nn.ReLU(), fc_end)\n",
    "state_dict = torch.load(model_path)\n",
    "model.load_state_dict(state_dict)\n",
    "model.eval()"
   ]
  },
  {
   "cell_type": "code",
   "execution_count": null,
   "metadata": {},
   "outputs": [],
   "source": [
    "control_preds = []; control_true = []\n",
    "tca_preds = []; tca_true = []\n",
    "ssri_preds = []; ssri_true = []\n",
    "other_preds = []; other_true = []\n",
    "with torch.no_grad():\n",
    "    for X, pid in dataset:\n",
    "        #bp()\n",
    "        \n",
    "        pred = model(X)\n",
    "        pred = torch.sigmoid(pred)\n",
    "        pred = pred.item()\n",
    "        pred_class = 1 if pred >= 0.2 else 0\n",
    "        y = dataset.get_label_from_filename(pid)\n",
    "        if data_dict[pid][1]==1: # tca\n",
    "            tca_preds.append(pred_class)\n",
    "            tca_true.append(y)\n",
    "        elif data_dict[pid][2]==1: # ssri\n",
    "            ssri_preds.append(pred_class)\n",
    "            ssri_true.append(y)\n",
    "        elif data_dict[pid][0]==1: # other\n",
    "            other_preds.append(pred_class)\n",
    "            other_true.append(y)\n",
    "        else: # control\n",
    "            control_preds.append(pred_class)\n",
    "            control_true.append(y)\n",
    "            \n",
    "\n",
    "print(\"precision, recall, and f1 for each group\")\n",
    "print(\"control:\")\n",
    "print(precision_score(control_true, control_preds), recall_score(control_true, control_preds), f1_score(control_true, control_preds))\n",
    "print(\"tca:\")\n",
    "print(precision_score(tca_true, tca_preds), recall_score(tca_true, tca_preds), f1_score(tca_true, tca_preds))\n",
    "print(\"ssri:\")\n",
    "print(precision_score(ssri_true, ssri_preds), recall_score(ssri_true, ssri_preds), f1_score(ssri_true, ssri_preds))\n",
    "print(\"other:\")\n",
    "print(precision_score(other_true, other_preds), recall_score(other_true, other_preds), f1_score(other_true, other_preds))"
   ]
  }
 ],
 "metadata": {
  "kernelspec": {
   "display_name": "Python 3",
   "language": "python",
   "name": "python3"
  },
  "language_info": {
   "codemirror_mode": {
    "name": "ipython",
    "version": 3
   },
   "file_extension": ".py",
   "mimetype": "text/x-python",
   "name": "python",
   "nbconvert_exporter": "python",
   "pygments_lexer": "ipython3",
   "version": "3.11.3"
  },
  "orig_nbformat": 4
 },
 "nbformat": 4,
 "nbformat_minor": 2
}
